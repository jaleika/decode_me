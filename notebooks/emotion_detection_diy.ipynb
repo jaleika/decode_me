{
 "cells": [
  {
   "cell_type": "code",
   "execution_count": 2,
   "id": "d20372e9",
   "metadata": {},
   "outputs": [],
   "source": [
    "import decode.ml_logic.emotion_detection.emotion_baseline as ed"
   ]
  },
  {
   "cell_type": "code",
   "execution_count": 1,
   "id": "bb0a5746",
   "metadata": {},
   "outputs": [
    {
     "name": "stderr",
     "output_type": "stream",
     "text": [
      "2023-05-25 19:22:03.468056: I tensorflow/core/platform/cpu_feature_guard.cc:182] This TensorFlow binary is optimized to use available CPU instructions in performance-critical operations.\n",
      "To enable the following instructions: AVX2 FMA, in other operations, rebuild TensorFlow with the appropriate compiler flags.\n"
     ]
    }
   ],
   "source": [
    "from tensorflow.keras.utils import image_dataset_from_directory\n",
    "import numpy as np\n",
    "import pandas as pd\n",
    "from tensorflow.keras.applications.inception_v3 import InceptionV3\n",
    "from tensorflow.keras import models, Sequential, layers\n",
    "from tensorflow.keras.utils import to_categorical\n",
    "from tensorflow.keras.callbacks import EarlyStopping\n",
    "import tensorflow as tf"
   ]
  },
  {
   "cell_type": "code",
   "execution_count": 14,
   "id": "27c7cf1b",
   "metadata": {},
   "outputs": [
    {
     "name": "stdout",
     "output_type": "stream",
     "text": [
      "Found 28709 files belonging to 7 classes.\n"
     ]
    }
   ],
   "source": [
    "train_ds = ed.load_data_local(ed.DIR_TRAIN, color_mode=\"rgb\")"
   ]
  },
  {
   "cell_type": "code",
   "execution_count": 15,
   "id": "183e852d",
   "metadata": {},
   "outputs": [
    {
     "data": {
      "text/plain": [
       "<_BatchDataset element_spec=(TensorSpec(shape=(None, 95, 95, 3), dtype=tf.float32, name=None), TensorSpec(shape=(None,), dtype=tf.int32, name=None))>"
      ]
     },
     "execution_count": 15,
     "metadata": {},
     "output_type": "execute_result"
    }
   ],
   "source": [
    "train_ds"
   ]
  },
  {
   "cell_type": "code",
   "execution_count": null,
   "id": "4f844707",
   "metadata": {},
   "outputs": [],
   "source": []
  },
  {
   "cell_type": "code",
   "execution_count": null,
   "id": "acfa5940",
   "metadata": {},
   "outputs": [],
   "source": [
    "def emotion_recognition(input_shape):\n",
    "\n",
    "  X_input = tf.keras.Input(input_shape)\n",
    "\n",
    "  X = Conv2D(32, kernel_size=(3,3), strides=(1,1), padding='valid')(X_input)\n",
    "  X = BatchNormalization(axis=3)(X)\n",
    "  X = Activation('relu')(X)\n",
    "\n",
    "\n",
    "  X = Conv2D(64, (3,3), strides=(1,1), padding = 'same')(X)\n",
    "  X = BatchNormalization(axis=3)(X)\n",
    "  X = Activation('relu')(X)\n",
    "\n",
    "  X = MaxPooling2D((2,2))(X)\n",
    "\n",
    "  X = Conv2D(64, (3,3), strides=(1,1), padding = 'valid')(X)\n",
    "  X = BatchNormalization(axis=3)(X)\n",
    "  X = Activation('relu')(X)\n",
    "\n",
    "  X = Conv2D(128, (3,3), strides=(1,1), padding = 'same')(X)\n",
    "  X = BatchNormalization(axis=3)(X)\n",
    "  X = Activation('relu')(X)\n",
    "\n",
    "\n",
    "  X = MaxPooling2D((2,2))(X)\n",
    "\n",
    "  X = Conv2D(128, (3,3), strides=(1,1), padding = 'valid')(X)\n",
    "  X = BatchNormalization(axis=3)(X)\n",
    "  X = Activation('relu')(X)\n",
    "\n",
    " \n",
    "\n",
    "  X = MaxPooling2D((2,2))(X)\n",
    "  X = Flatten()(X)\n",
    "  X = Dense(200, activation='relu')(X)\n",
    "  X = Dropout(0.6)(X)\n",
    "  X = Dense(7, activation = 'softmax')(X)\n",
    "\n",
    "  model = Model(inputs=X_input, outputs=X)\n",
    "\n",
    "  return model"
   ]
  }
 ],
 "metadata": {
  "kernelspec": {
   "display_name": "Python 3 (ipykernel)",
   "language": "python",
   "name": "python3"
  },
  "language_info": {
   "codemirror_mode": {
    "name": "ipython",
    "version": 3
   },
   "file_extension": ".py",
   "mimetype": "text/x-python",
   "name": "python",
   "nbconvert_exporter": "python",
   "pygments_lexer": "ipython3",
   "version": "3.10.6"
  },
  "toc": {
   "base_numbering": 1,
   "nav_menu": {},
   "number_sections": true,
   "sideBar": true,
   "skip_h1_title": false,
   "title_cell": "Table of Contents",
   "title_sidebar": "Contents",
   "toc_cell": false,
   "toc_position": {},
   "toc_section_display": true,
   "toc_window_display": false
  }
 },
 "nbformat": 4,
 "nbformat_minor": 5
}
