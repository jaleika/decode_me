{
 "cells": [
  {
   "cell_type": "code",
   "execution_count": null,
   "id": "524b34bd",
   "metadata": {},
   "outputs": [],
   "source": [
    "from google.colab import drive\n",
    "drive.mount('/content/drive/')"
   ]
  },
  {
   "cell_type": "code",
   "execution_count": null,
   "id": "32696e17",
   "metadata": {},
   "outputs": [],
   "source": [
    "!unzip -q \"/content/drive/MyDrive/Colab Notebooks/data-emotion-recognition/raw_data/fer13.zip\"\n",
    "# -d \"/content/drive/MyDrive/Colab Notebooks/data-emotion-recognition/raw_data\""
   ]
  },
  {
   "cell_type": "code",
   "execution_count": null,
   "id": "e6463f15",
   "metadata": {},
   "outputs": [],
   "source": [
    "import sys\n",
    "sys.path.insert(0,\"/content/test\")\n",
    "sys.path.insert(0,\"/content/train\")\n",
    "sys.path.insert(0,\"/content/drive/MyDrive/Colab Notebooks/data-emotion-recognition/\")"
   ]
  },
  {
   "cell_type": "code",
   "execution_count": 1,
   "id": "bbb6f677",
   "metadata": {},
   "outputs": [
    {
     "name": "stderr",
     "output_type": "stream",
     "text": [
      "2023-05-27 11:04:30.458392: I tensorflow/core/platform/cpu_feature_guard.cc:182] This TensorFlow binary is optimized to use available CPU instructions in performance-critical operations.\n",
      "To enable the following instructions: AVX2 AVX512F AVX512_VNNI FMA, in other operations, rebuild TensorFlow with the appropriate compiler flags.\n"
     ]
    }
   ],
   "source": [
    "import numpy as np\n",
    "import pandas as pd\n",
    "from tensorflow.keras.applications.inception_v3 import InceptionV3\n",
    "from tensorflow.keras import models, Sequential, layers\n",
    "from tensorflow.keras.utils import to_categorical\n",
    "from tensorflow.keras.callbacks import EarlyStopping\n",
    "from tensorflow.keras.utils import image_dataset_from_directory\n",
    "import tensorflow as tf\n",
    "import decode.ml_logic.emotion_detection.emotion_baseline as ed"
   ]
  },
  {
   "cell_type": "code",
   "execution_count": null,
   "id": "97524b26",
   "metadata": {},
   "outputs": [],
   "source": [
    "DIR_TRAIN = \"/content/train\"\n",
    "DIR_TEST = \"/content/test\"\n",
    "\n",
    "train_ds, val_ds = ds = image_dataset_from_directory(\n",
    "        DIR_TRAIN,\n",
    "        shuffle=True,\n",
    "        seed=42,\n",
    "        labels=\"inferred\",\n",
    "        label_mode = \"categorical\",\n",
    "        validation_split = 0.3, \n",
    "        subset = \"both\",\n",
    "        image_size=(95,95),\n",
    "        color_mode=\"rgb\",\n",
    "        batch_size=32,\n",
    "    )\n",
    "\n",
    "test_ds = image_dataset_from_directory(\n",
    "        DIR_TEST,\n",
    "        shuffle=True,\n",
    "        seed=42,\n",
    "        labels=\"inferred\",\n",
    "        label_mode = \"categorical\",\n",
    "        image_size=(95,95),\n",
    "        color_mode=\"rgb\",\n",
    "        batch_size=32,\n",
    "    )\n",
    "\n",
    "def preprocess(images, labels):\n",
    "  return preprocess_input(images), labels\n",
    "\n",
    "train_ds = train_ds.map(preprocess)\n",
    "val_ds = val_ds.map(preprocess)\n",
    "test_ds = test_ds.map(preprocess)\n",
    "#next(iter(train_ds))"
   ]
  },
  {
   "cell_type": "code",
   "execution_count": null,
   "id": "8b13e732",
   "metadata": {},
   "outputs": [],
   "source": [
    "def emotion_recognition(input_shape):\n",
    "    \n",
    "    model = Sequential()    \n",
    "    model.add(Input(shape=input_shape)) # Input tensor\n",
    "    \n",
    "    model.add(layers.Conv2D(32, kernel_size=(3,3), strides=(1,1), padding='valid')) \n",
    "    model.add(layers.BatchNormalization(axis=3)) \n",
    "    model.add(layers.Activation(activation='relu')) #output layer \n",
    "              \n",
    "    model.add(layers.Conv2D(64, kernel_size=(3,3), strides=(1,1), padding='same')) \n",
    "    model.add(layers.BatchNormalization(axis=3)) \n",
    "    model.add(layers.Activation(activation='relu')) #output layer \n",
    "\n",
    "    model.add(layers.MaxPooling2D((2,2)))          \n",
    "              \n",
    "    model.add(layers.Conv2D(64, kernel_size=(3,3), strides=(1,1), padding='valid')) \n",
    "    model.add(layers.BatchNormalization(axis=3)) \n",
    "    model.add(layers.Activation(activation='relu')) #output layer \n",
    "              \n",
    "    model.add(layers.Conv2D(128, kernel_size=(3,3), strides=(1,1), padding='same')) \n",
    "    model.add(layers.BatchNormalization(axis=3)) \n",
    "    model.add(layers.Activation(activation='relu')) #output layer \n",
    "              \n",
    "    model.add(layers.MaxPooling2D((2,2)))                \n",
    "              \n",
    "    model.add(layers.Conv2D(128, kernel_size=(3,3), strides=(1,1), padding='valid')) \n",
    "    model.add(layers.BatchNormalization(axis=3)) \n",
    "    model.add(layers.Activation(activation='relu')) #output layer \n",
    "              \n",
    "    model.add(layers.MaxPooling2D((2,2)))  \n",
    "              \n",
    "    model.add(layers.Flatten())                  \n",
    "    model.add(layers.Dense(200, activation='relu'))      \n",
    "    model.add(layers.Dropout())                             \n",
    "    model.add(layers.Dense(7, activation='softmax'))                    \n",
    "    return model"
   ]
  },
  {
   "cell_type": "code",
   "execution_count": null,
   "id": "86efd32e",
   "metadata": {},
   "outputs": [],
   "source": [
    "\n",
    "\n",
    "base_model = InceptionResNetV2(\n",
    "    weights=\"imagenet\",\n",
    "    include_top=False,\n",
    "    input_shape=(95, 95, 3)\n",
    ")\n",
    "base_model.trainable = False\n",
    "\n",
    "model = Sequential(\n",
    "    [\n",
    "        base_model,\n",
    "        layers.GlobalAveragePooling2D(),\n",
    "        layers.Dropout(0.6),\n",
    "        layers.Dense(7, activation=\"softmax\"),\n",
    "    ]\n",
    ")\n",
    "\n",
    "model.summary()\n",
    "\n",
    "es = EarlyStopping(patience=5, restore_best_weights=True)\n",
    "\n",
    "lr_schedule = tf.keras.optimizers.schedules.ExponentialDecay(\n",
    "    initial_learning_rate=0.01,\n",
    "    decay_steps=10000,\n",
    "    decay_rate=0.9)\n",
    "\n",
    "adam = tf.keras.optimizers.Adam(learning_rate=lr_schedule)\n",
    "\n",
    "#use this for ohe-labels\n",
    "model.compile(optimizer=adam, loss=\"CategoricalCrossentropy\", metrics=[\"Accuracy\", \"CategoricalAccuracy\"])\n",
    "#model.compile(optimizer=adam, loss=\"SparseCategoricalCrossentropy\", metrics=[\"SparseCategoricalAccuracy\"])\n",
    "\n",
    "#X_train, y_train = ed.get_first_batches(train_ds, 898);\n",
    "#X_test, y_test = ed.get_first_batches(test_ds, 225);\n",
    "#y_cat_train = to_categorical(y_train, num_classes=7)\n",
    "#y_cat_test = to_categorical(y_test, num_classes=7)\n",
    "\n",
    "\n",
    "#history = model.fit(X_train_preproc, y_cat_train, epochs=5, batch_size=32, callbacks=[es], validation_split=0.3)\n",
    "history = model.fit(train_ds, epochs=50, batch_size=32, callbacks=[es], validation_data=val_ds)"
   ]
  }
 ],
 "metadata": {
  "kernelspec": {
   "display_name": "Python 3",
   "language": "python",
   "name": "python3"
  },
  "language_info": {
   "codemirror_mode": {
    "name": "ipython",
    "version": 3
   },
   "file_extension": ".py",
   "mimetype": "text/x-python",
   "name": "python",
   "nbconvert_exporter": "python",
   "pygments_lexer": "ipython3",
   "version": "3.10.6 (main, Jan 14 2023, 12:31:42) [Clang 12.0.0 (clang-1200.0.32.21)]"
  },
  "toc": {
   "base_numbering": 1,
   "nav_menu": {},
   "number_sections": true,
   "sideBar": true,
   "skip_h1_title": false,
   "title_cell": "Table of Contents",
   "title_sidebar": "Contents",
   "toc_cell": false,
   "toc_position": {},
   "toc_section_display": true,
   "toc_window_display": false
  },
  "vscode": {
   "interpreter": {
    "hash": "6b19d910da7e2801720de035efadc990e9290d402f4aa54e5f12d2a8d19f4a8c"
   }
  }
 },
 "nbformat": 4,
 "nbformat_minor": 5
}
